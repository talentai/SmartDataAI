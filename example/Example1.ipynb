{
 "cells": [
  {
   "cell_type": "code",
   "execution_count": 4,
   "id": "c7241e1a-5a1f-44d3-a8bb-29efa4ec28ed",
   "metadata": {},
   "outputs": [
    {
     "name": "stdout",
     "output_type": "stream",
     "text": [
      "We’ve made some great strides in cleaning up our data! Here’s a friendly overview of what we accomplished:\n",
      "\n",
      "- **Filled in missing values** for numeric columns using the average, like Age (177 values).\n",
      "- **Capped outliers** for several columns to keep our data in check:\n",
      "  - Age: 7 to 8\n",
      "  - SibSp: 0 to 7\n",
      "  - Parch: 0 to 6\n",
      "  - Fare: 0 to 9\n",
      "- **Categorical columns** with missing values were filled with 'Not Specified':\n",
      "  - Cabin (687 values) and Embarked (2 values).\n",
      "  \n",
      "We didn’t remove any rows or columns, which is fantastic! We also standardized categories for **Sex**, **Embarked**, and **Cabin**, and replaced unreasonable values in **Age**, **Fare**, **SibSp**, and **Parch** with their averages. Overall, our dataset is now cleaner and ready for analysis!\n",
      "has_changes_to_df: True\n",
      "             Survived  Pclass  \\\n",
      "PassengerId                     \n",
      "1                   0       3   \n",
      "2                   1       1   \n",
      "3                   1       3   \n",
      "4                   1       1   \n",
      "5                   0       3   \n",
      "\n",
      "                                                          Name     Sex   Age  \\\n",
      "PassengerId                                                                    \n",
      "1                                      Braund, Mr. Owen Harris    Male  22.0   \n",
      "2            Cumings, Mrs. John Bradley (Florence Briggs Th...  Female  38.0   \n",
      "3                                        Heikkinen, Miss Laina  Female  26.0   \n",
      "4                 Futrelle, Mrs. Jacques Heath (Lily May Peel)  Female  35.0   \n",
      "5                                     Allen, Mr. William Henry    Male  35.0   \n",
      "\n",
      "             SibSp  Parch            Ticket     Fare    Cabin     Embarked  \n",
      "PassengerId                                                                 \n",
      "1              1.0    0.0         A/5 21171   7.2500  Unknown  Southampton  \n",
      "2              1.0    0.0          PC 17599  71.2833      c85    Cherbourg  \n",
      "3              0.0    0.0  STON/O2. 3101282   7.9250  Unknown  Southampton  \n",
      "4              1.0    0.0            113803  53.1000     c123  Southampton  \n",
      "5              0.0    0.0            373450   8.0500  Unknown  Southampton  \n"
     ]
    }
   ],
   "source": [
    "import os\n",
    "import pandas as pd\n",
    "from smartdata import SmartData\n",
    "from dotenv import load_dotenv\n",
    "\n",
    "load_dotenv()\n",
    "os.getenv('OPENAI_API_KEY')\n",
    "\n",
    "# Or Set OpenAI API key here :)\n",
    "# os.environ[\"OPENAI_API_KEY\"] = \"Your openai key\"\n",
    "\n",
    "# Read sample data\n",
    "df = pd.read_csv(r\"https://raw.githubusercontent.com/pandas-dev/pandas/main/doc/data/titanic.csv\", index_col=0)\n",
    "\n",
    "# Create SmartData Model\n",
    "sd = SmartData(df, memory_size = 0, show_detail = False)\n",
    "prompt, sd_model = sd.create_model()\n",
    "\n",
    "# Clean Data \n",
    "# - summary: this is a summary of data cleaning result include action taken, impacted records etc. \n",
    "# - has_changes_to_df: this is a boolean to indicate whether any changes to the existing df.\n",
    "# - df_new: this is the new cleaned dataframe after all the clean process.\n",
    "summary, has_changes_to_df, df_new = sd.clean_data()\n",
    "print(summary)\n",
    "print(\"has_changes_to_df: \"+str(has_changes_to_df))\n",
    "print(df_new.head(5))"
   ]
  },
  {
   "cell_type": "code",
   "execution_count": null,
   "id": "e300f3cd-a00e-4c0f-b6dd-96c662ed9008",
   "metadata": {},
   "outputs": [],
   "source": []
  }
 ],
 "metadata": {
  "kernelspec": {
   "display_name": "Python 3 (ipykernel)",
   "language": "python",
   "name": "python3"
  },
  "language_info": {
   "codemirror_mode": {
    "name": "ipython",
    "version": 3
   },
   "file_extension": ".py",
   "mimetype": "text/x-python",
   "name": "python",
   "nbconvert_exporter": "python",
   "pygments_lexer": "ipython3",
   "version": "3.10.13"
  }
 },
 "nbformat": 4,
 "nbformat_minor": 5
}
